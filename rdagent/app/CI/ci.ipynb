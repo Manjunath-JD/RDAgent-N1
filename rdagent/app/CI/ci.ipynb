{
 "cells": [
  {
   "cell_type": "code",
   "execution_count": null,
   "metadata": {},
   "outputs": [],
   "source": [
    "def have_close_element(numbers, threshold):\n",
    "    for idx, elem in enumerate(numbers): \n",
    "        for idx2, elem2 in enumerate(numbers): \n",
    "            if idx != idx2: \n",
    "                distance = abs(elem - elem2) \n",
    "            if distance < threshold: \n",
    "                return True \n",
    "            return False"
   ]
  }
 ],
 "metadata": {
  "kernelspec": {
   "display_name": "rdagent",
   "language": "python",
   "name": "python3"
  },
  "language_info": {
   "name": "python",
   "version": "3.10.0"
  }
 },
 "nbformat": 4,
 "nbformat_minor": 2
}
