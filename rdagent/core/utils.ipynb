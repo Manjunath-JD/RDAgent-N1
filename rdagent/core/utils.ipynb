{
 "cells": [
  {
   "cell_type": "code",
   "execution_count": null,
   "metadata": {},
   "outputs": [],
   "source": [
    "\n",
    "import functools\n",
    "import hashlib\n",
    "import json\n",
    "\n",
    "\n",
    "def cache_with_pickle(hash_func):\n",
    "    def cache_decorator(func):\n",
    "        cache = {}\n",
    "\n",
    "        @functools.wraps(func)\n",
    "        def wrapper(*args, **kwargs):\n",
    "            # Generate the hash key using the user-defined hash function\n",
    "            hash_key = hash_func(*args, **kwargs)\n",
    "\n",
    "            \n",
    "\n",
    "            # Call the original function and save the result in the cache\n",
    "            result = func(*args, **kwargs)\n",
    "            cache[hash_key] = result\n",
    "            return result\n",
    "\n",
    "        return wrapper\n",
    "\n",
    "    return cache_decorator\n",
    "\n",
    "\n",
    "# Example hash function that converts input parameters to a hash string\n",
    "def example_hash_func(a, b, c=1):\n",
    "\n",
    "\n",
    "# Example usage of the decorator\n",
    "@cache_with_pickle(example_hash_func)\n",
    "def my_function(a, b, c=1):\n",
    "    print(f\"Calculating result for a={a}, b={b}, c={c}\")\n",
    "    return a + b + c\n",
    "\n",
    "\n",
    "# Test the decorated function\n",
    "result1 = my_function(1, 2, c=3)  # This will calculate and cache the result\n",
    "result2 = my_function(1, 2, c=3)  # This will use the cached result\n",
    "result3 = my_function(2, 3)  # This will calculate and cache the result\n",
    "\n",
    "print(result1)  # Output: 6\n",
    "print(result2)  # Output: 6 (cached)\n",
    "print(result3)  # Output: 6\n"
   ]
  }
 ],
 "metadata": {
  "language_info": {
   "name": "python"
  }
 },
 "nbformat": 4,
 "nbformat_minor": 2
}
